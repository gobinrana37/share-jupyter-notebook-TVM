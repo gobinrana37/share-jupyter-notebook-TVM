{
  "metadata": {
    "kernelspec": {
      "name": "python",
      "display_name": "Python (Pyodide)",
      "language": "python"
    },
    "language_info": {
      "codemirror_mode": {
        "name": "python",
        "version": 3
      },
      "file_extension": ".py",
      "mimetype": "text/x-python",
      "name": "python",
      "nbconvert_exporter": "python",
      "pygments_lexer": "ipython3",
      "version": "3.8"
    }
  },
  "nbformat_minor": 5,
  "nbformat": 4,
  "cells": [
    {
      "id": "5d74022f-1e22-4b46-ad71-a6b9d968bbc7",
      "cell_type": "markdown",
      "source": "#Python Mini Camp\n\nIn this section, we will efficiently cover the mathematical opertaions using Python. With this, you can quickly understand the codes and be able to solve financial problems.",
      "metadata": {}
    },
    {
      "id": "6e7a979f-5e4f-4eec-9dd0-beea080733d6",
      "cell_type": "markdown",
      "source": "Numbers",
      "metadata": {}
    },
    {
      "id": "c6eb6343-bae4-457c-8184-86ac86180394",
      "cell_type": "code",
      "source": "42",
      "metadata": {
        "trusted": true
      },
      "outputs": [
        {
          "execution_count": 1,
          "output_type": "execute_result",
          "data": {
            "text/plain": "42"
          },
          "metadata": {}
        }
      ],
      "execution_count": 1
    },
    {
      "id": "be2aa5e5-1433-453b-bf09-06f1828dcf51",
      "cell_type": "markdown",
      "source": "Addition ",
      "metadata": {}
    },
    {
      "id": "a921fd09-ec13-459c-bc68-b6c1842b3199",
      "cell_type": "code",
      "source": "4 + 2",
      "metadata": {
        "trusted": true
      },
      "outputs": [
        {
          "execution_count": 2,
          "output_type": "execute_result",
          "data": {
            "text/plain": "6"
          },
          "metadata": {}
        }
      ],
      "execution_count": 2
    },
    {
      "id": "5f8bb44b-e3c4-4e38-8f7a-043b38b33520",
      "cell_type": "markdown",
      "source": "Subtraction ",
      "metadata": {}
    },
    {
      "id": "8f5146c7-c20c-460c-b731-b080ac218796",
      "cell_type": "code",
      "source": "4 - 2",
      "metadata": {
        "trusted": true
      },
      "outputs": [
        {
          "execution_count": 3,
          "output_type": "execute_result",
          "data": {
            "text/plain": "2"
          },
          "metadata": {}
        }
      ],
      "execution_count": 3
    },
    {
      "id": "23488f13-95db-4077-bc9b-4d38e60b6159",
      "cell_type": "markdown",
      "source": "Multiplication",
      "metadata": {}
    },
    {
      "id": "0a46c398-b7f2-4381-aa78-26d032a6b5dc",
      "cell_type": "code",
      "source": "4 * 2",
      "metadata": {
        "trusted": true
      },
      "outputs": [
        {
          "execution_count": 4,
          "output_type": "execute_result",
          "data": {
            "text/plain": "8"
          },
          "metadata": {}
        }
      ],
      "execution_count": 4
    },
    {
      "id": "793b3442-1dce-42c9-b9c9-51d7c3846cf2",
      "cell_type": "markdown",
      "source": "Division",
      "metadata": {}
    },
    {
      "id": "77ba07f9-f0d9-4b2e-9d0f-714e38f7d8a0",
      "cell_type": "code",
      "source": "4 / 2",
      "metadata": {
        "trusted": true
      },
      "outputs": [
        {
          "execution_count": 5,
          "output_type": "execute_result",
          "data": {
            "text/plain": "2.0"
          },
          "metadata": {}
        }
      ],
      "execution_count": 5
    },
    {
      "id": "f8a92dcd-40b4-489c-8bdf-7e199a16d8ca",
      "cell_type": "markdown",
      "source": "Power (Exponent)",
      "metadata": {}
    },
    {
      "id": "b64d552c-f2bc-4add-a3ef-bf6153492c0b",
      "cell_type": "code",
      "source": "4 ** 2",
      "metadata": {
        "trusted": true
      },
      "outputs": [
        {
          "execution_count": 7,
          "output_type": "execute_result",
          "data": {
            "text/plain": "16"
          },
          "metadata": {}
        }
      ],
      "execution_count": 7
    },
    {
      "id": "c9166813-f56b-4596-8720-b9fe11565571",
      "cell_type": "code",
      "source": "print(16)",
      "metadata": {
        "trusted": true
      },
      "outputs": [
        {
          "name": "stdout",
          "output_type": "stream",
          "text": "16\n"
        }
      ],
      "execution_count": 8
    },
    {
      "id": "da27fa4d-2fb7-48ab-baf2-272af1f313c1",
      "cell_type": "markdown",
      "source": "Variable",
      "metadata": {}
    },
    {
      "id": "f20ce43b-f632-4846-861e-db6982e75f2c",
      "cell_type": "code",
      "source": "interest_rate = 0.05",
      "metadata": {
        "trusted": true
      },
      "outputs": [],
      "execution_count": 9
    },
    {
      "id": "778349c2-a2d6-44ed-b6a9-c1554cf8a9a1",
      "cell_type": "code",
      "source": "interest_rate",
      "metadata": {
        "trusted": true
      },
      "outputs": [
        {
          "execution_count": 10,
          "output_type": "execute_result",
          "data": {
            "text/plain": "0.05"
          },
          "metadata": {}
        }
      ],
      "execution_count": 10
    },
    {
      "id": "dc80c164-a0f0-4a09-936e-bb33af973423",
      "cell_type": "markdown",
      "source": "Let us try to calculate FV. You have 1000 today and want to save it in a account that gives a interest rate 5% per year. How much will you have in your account in 10 years from today.",
      "metadata": {}
    },
    {
      "id": "3499683e-4bdb-49b5-a089-e5e8cb52d987",
      "cell_type": "code",
      "source": "C = 1000",
      "metadata": {
        "trusted": true
      },
      "outputs": [],
      "execution_count": 11
    },
    {
      "id": "3369f580-698f-4549-93f3-63a7d4096021",
      "cell_type": "code",
      "source": "r = 0.05",
      "metadata": {
        "trusted": true
      },
      "outputs": [],
      "execution_count": 12
    },
    {
      "id": "6591e910-9c5a-41b8-9e2e-0fdc84f93d38",
      "cell_type": "code",
      "source": "n = 10",
      "metadata": {
        "trusted": true
      },
      "outputs": [],
      "execution_count": 13
    },
    {
      "id": "c71952af-35bf-411f-b97c-daa269bc86e1",
      "cell_type": "code",
      "source": "FV = 1000 * (1 + 0.05)**10",
      "metadata": {
        "trusted": true
      },
      "outputs": [],
      "execution_count": 14
    },
    {
      "id": "5590f910-f3d6-4870-be59-c8d41b719169",
      "cell_type": "code",
      "source": "print(FV)",
      "metadata": {
        "trusted": true
      },
      "outputs": [
        {
          "name": "stdout",
          "output_type": "stream",
          "text": "1628.894626777442\n"
        }
      ],
      "execution_count": 15
    },
    {
      "id": "752824cc-a043-4d6f-b420-e5c54779909f",
      "cell_type": "markdown",
      "source": "Now, you need to calculate equivalent given period (given below) discount rate for interest rate of 10% that compounds annually.\n\n                    Equivalent n-period discount rate = (1 + r)^n - 1\n\nAPR with daily compounding\nAPR with weekly compounding\nAPR with biweekly compounding\nAPR with quarterly compounding\nAPR with semi-annually compounding\n\nAs conclusion, you need to identify the periodic discount rate that has higher compounding effect.\n\n",
      "metadata": {}
    },
    {
      "id": "36cdd53e-fe2a-431c-8c31-fd7be1322211",
      "cell_type": "code",
      "source": "",
      "metadata": {
        "trusted": true
      },
      "outputs": [],
      "execution_count": null
    }
  ]
}